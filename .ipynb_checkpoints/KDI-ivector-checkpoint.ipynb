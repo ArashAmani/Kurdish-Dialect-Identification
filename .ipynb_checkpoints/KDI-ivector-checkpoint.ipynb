{
 "cells": [
  {
   "cell_type": "code",
   "execution_count": 1,
   "metadata": {},
   "outputs": [],
   "source": [
    "import pandas as pd\n",
    "from sklearn.model_selection import train_test_split\n",
    "from sklearn.neighbors import KNeighborsClassifier\n",
    "from sklearn.metrics import  confusion_matrix\n",
    "from sklearn.metrics import classification_report\n",
    "from sklearn.model_selection import cross_val_score\n",
    "from sklearn.metrics import accuracy_score\n",
    "from sklearn.model_selection import cross_validate"
   ]
  },
  {
   "cell_type": "markdown",
   "metadata": {},
   "source": [
    "# i-Vector"
   ]
  },
  {
   "cell_type": "raw",
   "metadata": {},
   "source": [
    "Train & Validation "
   ]
  },
  {
   "cell_type": "code",
   "execution_count": 2,
   "metadata": {},
   "outputs": [],
   "source": [
    "def report_classifer(y_test,predicts,target_names):\n",
    "    print(\"-----------------------------\")\n",
    "    print(\"Report Classifier\")\n",
    "    cm=confusion_matrix(y_test,predicts,labels=target_names)\n",
    "    print(cm)\n",
    "    print(classification_report(y_test, predicts, target_names=target_names))\n",
    "    print(\"Report Classifier\")\n",
    "    print(\"-----------------------------\")"
   ]
  },
  {
   "cell_type": "code",
   "execution_count": 3,
   "metadata": {},
   "outputs": [],
   "source": [
    "def read_data_set(csv_vectore,number_feature=401):\n",
    "    vdf=pd.read_csv(csv_vectore,header=None)\n",
    "    columns=[ \"f{}\".format(i) for i in range(1,number_feature)]\n",
    "    columns.append('class')\n",
    "    vdf.columns=columns\n",
    "    features=vdf.iloc[:,0:-1]\n",
    "    dialects=vdf.iloc[:,-1]\n",
    "    return features,dialects"
   ]
  },
  {
   "cell_type": "code",
   "execution_count": 4,
   "metadata": {},
   "outputs": [],
   "source": [
    "features,dialects=read_data_set(\"kurdish_dialect_vectors/i-vectors.csv\")\n"
   ]
  },
  {
   "cell_type": "code",
   "execution_count": 5,
   "metadata": {},
   "outputs": [],
   "source": [
    "metrics=['precision_macro', 'recall_macro','f1_macro','accuracy']"
   ]
  },
  {
   "cell_type": "markdown",
   "metadata": {},
   "source": [
    "# Evaluation on SVM"
   ]
  },
  {
   "cell_type": "code",
   "execution_count": 7,
   "metadata": {},
   "outputs": [],
   "source": [
    "from sklearn.svm import SVC\n",
    "\n",
    "# def SVM_classifier(features,label):\n",
    "#     model=SVC(gamma='auto')\n",
    "#     model.fit(features,label)\n",
    "#     return model"
   ]
  },
  {
   "cell_type": "raw",
   "metadata": {},
   "source": [
    "train set & validation set is on the same data set\n"
   ]
  },
  {
   "cell_type": "code",
   "execution_count": 8,
   "metadata": {},
   "outputs": [],
   "source": [
    "metrics=['precision_macro', 'recall_macro','f1_macro','accuracy']\n"
   ]
  },
  {
   "cell_type": "code",
   "execution_count": 9,
   "metadata": {},
   "outputs": [
    {
     "name": "stderr",
     "output_type": "stream",
     "text": [
      "[Parallel(n_jobs=1)]: Using backend SequentialBackend with 1 concurrent workers.\n",
      "[Parallel(n_jobs=1)]: Done   5 out of   5 | elapsed:  9.0min finished\n"
     ]
    }
   ],
   "source": [
    "clf = SVC(gamma='auto',random_state=42)\n",
    "scores_csv = cross_validate(clf, features, dialects, cv=5,verbose=1,scoring=metrics)"
   ]
  },
  {
   "cell_type": "code",
   "execution_count": 10,
   "metadata": {},
   "outputs": [
    {
     "data": {
      "text/plain": [
       "{'fit_time': array([78.73017287, 92.51534653, 90.58196449, 93.01711178, 93.15384197]),\n",
       " 'score_time': array([17.08285689, 18.6905272 , 17.77322221, 18.90628147, 18.34829855]),\n",
       " 'test_precision_macro': array([0.75915324, 0.88422508, 0.8518159 , 0.93785604, 0.93075817]),\n",
       " 'test_recall_macro': array([0.68435873, 0.81753112, 0.78314302, 0.93001267, 0.92212733]),\n",
       " 'test_f1_macro': array([0.68672608, 0.82591334, 0.79534975, 0.93355808, 0.92595182]),\n",
       " 'test_accuracy': array([0.68355203, 0.86176381, 0.81660055, 0.9337809 , 0.92612943])}"
      ]
     },
     "execution_count": 10,
     "metadata": {},
     "output_type": "execute_result"
    }
   ],
   "source": [
    "scores_csv"
   ]
  },
  {
   "cell_type": "code",
   "execution_count": 11,
   "metadata": {},
   "outputs": [
    {
     "name": "stdout",
     "output_type": "stream",
     "text": [
      "Precision on CSV:  0.87\n",
      "Recall on CSV :  0.83\n",
      "F1_score  on CSV:  0.83\n",
      "Acuracy  on CSV:  0.84\n"
     ]
    }
   ],
   "source": [
    "print(\"Precision on CSV: \", round(scores_csv[\"test_precision_macro\"].mean(),2))\n",
    "print(\"Recall on CSV : \", round(scores_csv[\"test_recall_macro\"].mean(),2))\n",
    "print(\"F1_score  on CSV: \", round(scores_csv[\"test_f1_macro\"].mean(),2))\n",
    "print(\"Acuracy  on CSV: \", round(scores_csv[\"test_accuracy\"].mean(),2))"
   ]
  },
  {
   "cell_type": "code",
   "execution_count": 12,
   "metadata": {},
   "outputs": [
    {
     "name": "stdout",
     "output_type": "stream",
     "text": [
      "0.87 accuracy with a standard deviation of 0.06\n"
     ]
    }
   ],
   "source": [
    "print(\"%0.2f accuracy with a standard deviation of %0.2f\" % (scores_csv[\"test_precision_macro\"].mean(), scores_csv[\"test_precision_macro\"].std()))\n"
   ]
  },
  {
   "cell_type": "code",
   "execution_count": null,
   "metadata": {},
   "outputs": [],
   "source": []
  },
  {
   "cell_type": "markdown",
   "metadata": {},
   "source": [
    "# Evaluation On Decision Tree\n"
   ]
  },
  {
   "cell_type": "code",
   "execution_count": 13,
   "metadata": {},
   "outputs": [],
   "source": [
    "from sklearn.tree import DecisionTreeClassifier"
   ]
  },
  {
   "cell_type": "code",
   "execution_count": 14,
   "metadata": {},
   "outputs": [
    {
     "name": "stderr",
     "output_type": "stream",
     "text": [
      "[Parallel(n_jobs=1)]: Using backend SequentialBackend with 1 concurrent workers.\n",
      "[Parallel(n_jobs=1)]: Done   5 out of   5 | elapsed:  1.3min finished\n"
     ]
    }
   ],
   "source": [
    "dt = DecisionTreeClassifier(criterion='entropy',random_state=42)\n",
    "scores_dt = cross_validate(dt, features, dialects, cv=5,verbose=1,scoring=metrics)\n"
   ]
  },
  {
   "cell_type": "code",
   "execution_count": 17,
   "metadata": {},
   "outputs": [
    {
     "data": {
      "text/plain": [
       "{'fit_time': array([14.48237181, 14.27434635, 15.73906684, 15.211339  , 15.19518948]),\n",
       " 'score_time': array([0.04507136, 0.04196763, 0.04385638, 0.04385805, 0.0437808 ]),\n",
       " 'test_precision_macro': array([0.55695788, 0.66442563, 0.60559676, 0.76176744, 0.76699534]),\n",
       " 'test_recall_macro': array([0.55768373, 0.63350734, 0.59043466, 0.75761609, 0.75522425]),\n",
       " 'test_f1_macro': array([0.55412858, 0.63716984, 0.59201302, 0.75800884, 0.75872793]),\n",
       " 'test_accuracy': array([0.55660665, 0.66859933, 0.61641745, 0.75434849, 0.75030525])}"
      ]
     },
     "execution_count": 17,
     "metadata": {},
     "output_type": "execute_result"
    }
   ],
   "source": [
    "scores_dt"
   ]
  },
  {
   "cell_type": "code",
   "execution_count": 19,
   "metadata": {},
   "outputs": [
    {
     "name": "stdout",
     "output_type": "stream",
     "text": [
      "Precision on DT:  0.67\n",
      "Recall on DT:  0.66\n",
      "F1_score on DT:  0.66\n",
      "Acuracy on DT:  0.67\n"
     ]
    }
   ],
   "source": [
    "print(\"Precision on DT: \", round(scores_dt[\"test_precision_macro\"].mean(),2))\n",
    "print(\"Recall on DT: \", round(scores_dt[\"test_recall_macro\"].mean(),2))\n",
    "print(\"F1_score on DT: \", round(scores_dt[\"test_f1_macro\"].mean(),2))\n",
    "print(\"Acuracy on DT: \", round(scores_dt[\"test_accuracy\"].mean(),2))"
   ]
  },
  {
   "cell_type": "code",
   "execution_count": null,
   "metadata": {},
   "outputs": [],
   "source": []
  },
  {
   "cell_type": "code",
   "execution_count": null,
   "metadata": {},
   "outputs": [],
   "source": []
  },
  {
   "cell_type": "markdown",
   "metadata": {},
   "source": [
    "-------------------"
   ]
  },
  {
   "cell_type": "code",
   "execution_count": null,
   "metadata": {},
   "outputs": [],
   "source": [
    "k_fold_split=5\n",
    "from sklearn.model_selection import StratifiedKFold\n",
    "skf = StratifiedKFold(n_splits=k_fold_split, random_state=42, shuffle=True)\n",
    "\n",
    "labels=[\"hawrami\", \"kalhori\", \"zazaki\",\"sorani\",\"kurmanji\"]"
   ]
  },
  {
   "cell_type": "code",
   "execution_count": 10,
   "metadata": {},
   "outputs": [
    {
     "name": "stdout",
     "output_type": "stream",
     "text": [
      "Fold:  0\n",
      "Accuracy:  0.9802461139896373\n",
      "-----------------------------\n",
      "Report Classifier\n",
      "[[323   1   3   7   1]\n",
      " [  0 689   4   0   0]\n",
      " [  0   0 715   1   0]\n",
      " [  0   0   5 660   7]\n",
      " [  1   2  16  13 640]]\n",
      "              precision    recall  f1-score   support\n",
      "\n",
      "     hawrami       1.00      0.96      0.98       335\n",
      "     kalhori       1.00      0.99      0.99       693\n",
      "      zazaki       0.99      0.95      0.97       672\n",
      "      sorani       0.97      0.98      0.98       672\n",
      "    kurmanji       0.96      1.00      0.98       716\n",
      "\n",
      "    accuracy                           0.98      3088\n",
      "   macro avg       0.98      0.98      0.98      3088\n",
      "weighted avg       0.98      0.98      0.98      3088\n",
      "\n",
      "Report Classifier\n",
      "-----------------------------\n",
      "Fold:  1\n",
      "Accuracy:  0.979598445595855\n",
      "-----------------------------\n",
      "Report Classifier\n",
      "[[325   2   5   2   1]\n",
      " [  0 688   3   1   1]\n",
      " [  0   0 715   0   1]\n",
      " [  0   0   6 657   9]\n",
      " [  0   1  20  11 640]]\n",
      "              precision    recall  f1-score   support\n",
      "\n",
      "     hawrami       1.00      0.97      0.98       335\n",
      "     kalhori       1.00      0.99      0.99       693\n",
      "      zazaki       0.98      0.95      0.97       672\n",
      "      sorani       0.98      0.98      0.98       672\n",
      "    kurmanji       0.95      1.00      0.98       716\n",
      "\n",
      "    accuracy                           0.98      3088\n",
      "   macro avg       0.98      0.98      0.98      3088\n",
      "weighted avg       0.98      0.98      0.98      3088\n",
      "\n",
      "Report Classifier\n",
      "-----------------------------\n",
      "Fold:  2\n",
      "Accuracy:  0.9737694300518135\n",
      "-----------------------------\n",
      "Report Classifier\n",
      "[[327   1   6   0   1]\n",
      " [  0 687   4   1   0]\n",
      " [  0   0 715   1   0]\n",
      " [  0   0  15 640  18]\n",
      " [  1   2  23   8 638]]\n",
      "              precision    recall  f1-score   support\n",
      "\n",
      "     hawrami       1.00      0.98      0.99       335\n",
      "     kalhori       1.00      0.99      0.99       692\n",
      "      zazaki       0.97      0.95      0.96       672\n",
      "      sorani       0.98      0.95      0.97       673\n",
      "    kurmanji       0.94      1.00      0.97       716\n",
      "\n",
      "    accuracy                           0.97      3088\n",
      "   macro avg       0.98      0.97      0.98      3088\n",
      "weighted avg       0.97      0.97      0.97      3088\n",
      "\n",
      "Report Classifier\n",
      "-----------------------------\n",
      "Fold:  3\n",
      "Accuracy:  0.9795918367346939\n",
      "-----------------------------\n",
      "Report Classifier\n",
      "[[324   0   4   5   2]\n",
      " [  0 688   3   0   1]\n",
      " [  0   0 714   1   0]\n",
      " [  0   0   9 649  15]\n",
      " [  1   0  10  12 649]]\n",
      "              precision    recall  f1-score   support\n",
      "\n",
      "     hawrami       1.00      0.97      0.98       335\n",
      "     kalhori       1.00      0.99      1.00       692\n",
      "      zazaki       0.97      0.97      0.97       672\n",
      "      sorani       0.97      0.96      0.97       673\n",
      "    kurmanji       0.96      1.00      0.98       715\n",
      "\n",
      "    accuracy                           0.98      3087\n",
      "   macro avg       0.98      0.98      0.98      3087\n",
      "weighted avg       0.98      0.98      0.98      3087\n",
      "\n",
      "Report Classifier\n",
      "-----------------------------\n",
      "Fold:  4\n",
      "Accuracy:  0.9792678976352446\n",
      "-----------------------------\n",
      "Report Classifier\n",
      "[[325   0   5   1   3]\n",
      " [  0 691   2   0   0]\n",
      " [  0   0 712   0   3]\n",
      " [  0   0   3 654  16]\n",
      " [  0   1  22   8 641]]\n",
      "              precision    recall  f1-score   support\n",
      "\n",
      "     hawrami       1.00      0.97      0.99       334\n",
      "     kalhori       1.00      1.00      1.00       693\n",
      "      zazaki       0.97      0.95      0.96       672\n",
      "      sorani       0.99      0.97      0.98       673\n",
      "    kurmanji       0.96      1.00      0.98       715\n",
      "\n",
      "    accuracy                           0.98      3087\n",
      "   macro avg       0.98      0.98      0.98      3087\n",
      "weighted avg       0.98      0.98      0.98      3087\n",
      "\n",
      "Report Classifier\n",
      "-----------------------------\n"
     ]
    }
   ],
   "source": [
    "model=SVC(gamma='auto',random_state=42)\n",
    "\n",
    "fold_no = 0\n",
    "results={}\n",
    "scores=[0]*k_fold_split \n",
    "for train_index, test_index in skf.split(features, dialects):\n",
    "    #print(\"TRAIN:\", train_index, \"TEST:\", test_index)\n",
    "    X_train, X_test = features.iloc[train_index], features.iloc[test_index]\n",
    "    y_train, y_test = dialects.iloc[train_index], dialects.iloc[test_index]\n",
    "    \n",
    "    print(\"Fold: \",str(fold_no))\n",
    "    \n",
    "    model.fit(X_train,y_train)\n",
    "    predicts = model.predict(X_test)\n",
    "    \n",
    "    scores[fold_no]= accuracy_score(y_test,predicts) \n",
    "    print('Accuracy: ',scores[fold_no])\n",
    "    report_classifer(y_test,predicts,labels)\n",
    "    \n",
    "    fold_no = fold_no + 1"
   ]
  },
  {
   "cell_type": "code",
   "execution_count": 11,
   "metadata": {},
   "outputs": [
    {
     "name": "stdout",
     "output_type": "stream",
     "text": [
      "0.98 accuracy with a standard deviation of 0.00\n"
     ]
    }
   ],
   "source": [
    "import numpy as np\n",
    "print(\"%0.2f accuracy with a standard deviation of %0.2f\" % (np.array(scores).mean(), np.array(scores).std()))"
   ]
  },
  {
   "cell_type": "markdown",
   "metadata": {},
   "source": [
    "# Decicio Tree Classifier"
   ]
  },
  {
   "cell_type": "code",
   "execution_count": 12,
   "metadata": {},
   "outputs": [],
   "source": [
    "from sklearn.tree import DecisionTreeClassifier"
   ]
  },
  {
   "cell_type": "code",
   "execution_count": 13,
   "metadata": {},
   "outputs": [
    {
     "name": "stdout",
     "output_type": "stream",
     "text": [
      "0.70 accuracy with a standard deviation of 0.03\n"
     ]
    }
   ],
   "source": [
    "clf = DecisionTreeClassifier(criterion='entropy',random_state=42)\n",
    "scores = cross_val_score(clf, features, dialects, cv=5)\n",
    "\n",
    "print(\"%0.2f accuracy with a standard deviation of %0.2f\" % (np.array(scores).mean(), np.array(scores).std()))"
   ]
  },
  {
   "cell_type": "code",
   "execution_count": 14,
   "metadata": {},
   "outputs": [
    {
     "name": "stdout",
     "output_type": "stream",
     "text": [
      "Fold:  0\n",
      "Accuracy:  0.8380829015544041\n",
      "-----------------------------\n",
      "Report Classifier\n",
      "[[295  17   1   7  15]\n",
      " [ 10 625  22  27   9]\n",
      " [  5  15 650  27  19]\n",
      " [ 10  21  16 516 109]\n",
      " [ 20  14  28 108 502]]\n",
      "              precision    recall  f1-score   support\n",
      "\n",
      "     hawrami       0.87      0.88      0.87       335\n",
      "     kalhori       0.90      0.90      0.90       693\n",
      "      zazaki       0.77      0.75      0.76       672\n",
      "      sorani       0.75      0.77      0.76       672\n",
      "    kurmanji       0.91      0.91      0.91       716\n",
      "\n",
      "    accuracy                           0.84      3088\n",
      "   macro avg       0.84      0.84      0.84      3088\n",
      "weighted avg       0.84      0.84      0.84      3088\n",
      "\n",
      "Report Classifier\n",
      "-----------------------------\n",
      "Fold:  1\n",
      "Accuracy:  0.8403497409326425\n",
      "-----------------------------\n",
      "Report Classifier\n",
      "[[278  10  10  15  22]\n",
      " [ 13 627  14  20  19]\n",
      " [  6  19 653  17  21]\n",
      " [ 15  17  30 509 101]\n",
      " [ 13  11  27  93 528]]\n",
      "              precision    recall  f1-score   support\n",
      "\n",
      "     hawrami       0.86      0.83      0.84       335\n",
      "     kalhori       0.92      0.90      0.91       693\n",
      "      zazaki       0.76      0.79      0.77       672\n",
      "      sorani       0.78      0.76      0.77       672\n",
      "    kurmanji       0.89      0.91      0.90       716\n",
      "\n",
      "    accuracy                           0.84      3088\n",
      "   macro avg       0.84      0.84      0.84      3088\n",
      "weighted avg       0.84      0.84      0.84      3088\n",
      "\n",
      "Report Classifier\n",
      "-----------------------------\n",
      "Fold:  2\n",
      "Accuracy:  0.854598445595855\n",
      "-----------------------------\n",
      "Report Classifier\n",
      "[[292   8   8  12  15]\n",
      " [  8 645  14  13  12]\n",
      " [  9   9 656  17  25]\n",
      " [ 15  17  22 525  94]\n",
      " [ 13  19  19 100 521]]\n",
      "              precision    recall  f1-score   support\n",
      "\n",
      "     hawrami       0.87      0.87      0.87       335\n",
      "     kalhori       0.92      0.93      0.93       692\n",
      "      zazaki       0.78      0.78      0.78       672\n",
      "      sorani       0.79      0.78      0.78       673\n",
      "    kurmanji       0.91      0.92      0.91       716\n",
      "\n",
      "    accuracy                           0.85      3088\n",
      "   macro avg       0.85      0.86      0.85      3088\n",
      "weighted avg       0.85      0.85      0.85      3088\n",
      "\n",
      "Report Classifier\n",
      "-----------------------------\n",
      "Fold:  3\n",
      "Accuracy:  0.8490443796566246\n",
      "-----------------------------\n",
      "Report Classifier\n",
      "[[293  10   8  10  14]\n",
      " [  5 635  13  22  17]\n",
      " [ 13  26 630  13  33]\n",
      " [ 14  22  24 522  91]\n",
      " [ 10  17  24  80 541]]\n",
      "              precision    recall  f1-score   support\n",
      "\n",
      "     hawrami       0.87      0.87      0.87       335\n",
      "     kalhori       0.89      0.92      0.91       692\n",
      "      zazaki       0.78      0.81      0.79       672\n",
      "      sorani       0.81      0.78      0.79       673\n",
      "    kurmanji       0.90      0.88      0.89       715\n",
      "\n",
      "    accuracy                           0.85      3087\n",
      "   macro avg       0.85      0.85      0.85      3087\n",
      "weighted avg       0.85      0.85      0.85      3087\n",
      "\n",
      "Report Classifier\n",
      "-----------------------------\n",
      "Fold:  4\n",
      "Accuracy:  0.8526077097505669\n",
      "-----------------------------\n",
      "Report Classifier\n",
      "[[287  11   8  13  15]\n",
      " [  8 644   6  13  22]\n",
      " [  5  16 654  22  18]\n",
      " [ 10  23  14 525 101]\n",
      " [ 11  14  21 104 522]]\n",
      "              precision    recall  f1-score   support\n",
      "\n",
      "     hawrami       0.89      0.86      0.88       334\n",
      "     kalhori       0.91      0.93      0.92       693\n",
      "      zazaki       0.77      0.78      0.77       672\n",
      "      sorani       0.78      0.78      0.78       673\n",
      "    kurmanji       0.93      0.91      0.92       715\n",
      "\n",
      "    accuracy                           0.85      3087\n",
      "   macro avg       0.86      0.85      0.85      3087\n",
      "weighted avg       0.85      0.85      0.85      3087\n",
      "\n",
      "Report Classifier\n",
      "-----------------------------\n"
     ]
    }
   ],
   "source": [
    "model = DecisionTreeClassifier(criterion='entropy',random_state=42)\n",
    "\n",
    "fold_no = 0\n",
    "results={}\n",
    "scores=[0]*k_fold_split \n",
    "for train_index, test_index in skf.split(features, dialects):\n",
    "    #print(\"TRAIN:\", train_index, \"TEST:\", test_index)\n",
    "    X_train, X_test = features.iloc[train_index], features.iloc[test_index]\n",
    "    y_train, y_test = dialects.iloc[train_index], dialects.iloc[test_index]\n",
    "    \n",
    "    print(\"Fold: \",str(fold_no))\n",
    "    \n",
    "    model.fit(X_train,y_train)\n",
    "    predicts = model.predict(X_test)\n",
    "    \n",
    "    scores[fold_no]= accuracy_score(y_test,predicts) \n",
    "    print('Accuracy: ',scores[fold_no])\n",
    "    report_classifer(y_test,predicts,labels)\n",
    "    \n",
    "    fold_no = fold_no + 1"
   ]
  },
  {
   "cell_type": "code",
   "execution_count": 15,
   "metadata": {},
   "outputs": [
    {
     "name": "stdout",
     "output_type": "stream",
     "text": [
      "0.85 accuracy with a standard deviation of 0.01\n"
     ]
    }
   ],
   "source": [
    "print(\"%0.2f accuracy with a standard deviation of %0.2f\" % (np.array(scores).mean(), np.array(scores).std()))"
   ]
  },
  {
   "cell_type": "code",
   "execution_count": null,
   "metadata": {},
   "outputs": [],
   "source": []
  },
  {
   "cell_type": "markdown",
   "metadata": {},
   "source": [
    "--------------------------------"
   ]
  },
  {
   "cell_type": "markdown",
   "metadata": {},
   "source": [
    "# the following result is not to the final data"
   ]
  },
  {
   "cell_type": "code",
   "execution_count": 8,
   "metadata": {},
   "outputs": [
    {
     "name": "stdout",
     "output_type": "stream",
     "text": [
      "score:  0.9666896393291983\n",
      "-----------------------------\n",
      "Report Classifier\n",
      "[[ 333    0    3    1    6]\n",
      " [   0  976    2    1    6]\n",
      " [   0    5  953    0   21]\n",
      " [   0    2    5  801   39]\n",
      " [   2    9   25   18 1145]]\n",
      "              precision    recall  f1-score   support\n",
      "\n",
      "     hawrami       0.99      0.97      0.98       343\n",
      "     kalhori       0.98      0.99      0.99       985\n",
      "      zazaki       0.94      0.95      0.95      1199\n",
      "      sorani       0.98      0.95      0.96       847\n",
      "    kurmanji       0.96      0.97      0.97       979\n",
      "\n",
      "    accuracy                           0.97      4353\n",
      "   macro avg       0.97      0.97      0.97      4353\n",
      "weighted avg       0.97      0.97      0.97      4353\n",
      "\n",
      "Report Classifier\n",
      "-----------------------------\n"
     ]
    }
   ],
   "source": [
    "model_ivectore_1=SVM_classifier(X_train,y_train)\n",
    "\n",
    "\n",
    "acc=model_ivectore_1.score(X_test,y_test)\n",
    "print(\"score: \",acc)\n",
    "predicts=model_ivectore_1.predict(X_test)\n",
    "\n",
    "labels=[\"hawrami\", \"kalhori\", \"zazaki\",\"sorani\",\"kurmanji\"]\n",
    "#labels=[1, 2, 3,4,5]\n",
    "# cm=confusion_matrix(y_test,predicts,labels=labels)\n",
    "# print(cm)\n",
    "report_classifer(y_test,predicts,labels)"
   ]
  },
  {
   "cell_type": "code",
   "execution_count": 10,
   "metadata": {},
   "outputs": [
    {
     "data": {
      "text/plain": [
       "SVC(C=1.0, break_ties=False, cache_size=200, class_weight=None, coef0=0.0,\n",
       "    decision_function_shape='ovr', degree=3, gamma='auto', kernel='rbf',\n",
       "    max_iter=-1, probability=False, random_state=None, shrinking=True,\n",
       "    tol=0.001, verbose=False)"
      ]
     },
     "execution_count": 10,
     "metadata": {},
     "output_type": "execute_result"
    }
   ],
   "source": [
    "model_ivectore_1"
   ]
  },
  {
   "cell_type": "markdown",
   "metadata": {},
   "source": [
    "--------------------------"
   ]
  },
  {
   "cell_type": "code",
   "execution_count": 15,
   "metadata": {},
   "outputs": [],
   "source": [
    "features_ivectore_test_set,dialects_ivectore_test_set=read_data_set(\"data/test_set_kurdish_dialects_ivectors.csv\",401)"
   ]
  },
  {
   "cell_type": "code",
   "execution_count": 17,
   "metadata": {},
   "outputs": [
    {
     "data": {
      "text/plain": [
       "(1239, 400)"
      ]
     },
     "execution_count": 17,
     "metadata": {},
     "output_type": "execute_result"
    }
   ],
   "source": [
    "features_ivectore_test_set.shape"
   ]
  },
  {
   "cell_type": "code",
   "execution_count": 18,
   "metadata": {},
   "outputs": [
    {
     "name": "stdout",
     "output_type": "stream",
     "text": [
      "-----------------------------\n",
      "Report Classifier\n",
      "[[  4  20  50  46 105]\n",
      " [ 10  86  17  63  63]\n",
      " [  7  51 105  47  60]\n",
      " [  5  18  45  37 145]\n",
      " [  7  49  72  35  92]]\n",
      "              precision    recall  f1-score   support\n",
      "\n",
      "     hawrami       0.12      0.02      0.03       225\n",
      "     kalhori       0.38      0.36      0.37       239\n",
      "      zazaki       0.20      0.36      0.26       255\n",
      "      sorani       0.16      0.15      0.15       250\n",
      "    kurmanji       0.36      0.39      0.38       270\n",
      "\n",
      "    accuracy                           0.26      1239\n",
      "   macro avg       0.25      0.26      0.24      1239\n",
      "weighted avg       0.25      0.26      0.24      1239\n",
      "\n",
      "Report Classifier\n",
      "-----------------------------\n"
     ]
    }
   ],
   "source": [
    "\n",
    "predicts=model_ivectore_1.predict(features_ivectore_test_set)\n",
    "\n",
    "labels=[\"hawrami\", \"kalhori\", \"zazaki\",\"sorani\",\"kurmanji\"]\n",
    "#labels=[1, 2, 3,4,5]\n",
    "# cm=confusion_matrix(y_test,predicts,labels=labels)\n",
    "# print(cm)\n",
    "report_classifer(dialects_ivectore_test_set,predicts,labels)"
   ]
  },
  {
   "cell_type": "code",
   "execution_count": 21,
   "metadata": {},
   "outputs": [],
   "source": [
    "import pickle\n",
    "\n",
    "def save_model(model,model_name):\n",
    "    with open(model_name,\"wb\") as f:\n",
    "        f.write(pickle.dumps( model ))"
   ]
  },
  {
   "cell_type": "code",
   "execution_count": 22,
   "metadata": {},
   "outputs": [],
   "source": [
    "save_model(model_ivectore_1,\"kdi_svm_ivector_trained_on_only_train_set.pkl\")"
   ]
  },
  {
   "cell_type": "code",
   "execution_count": 22,
   "metadata": {},
   "outputs": [],
   "source": [
    "#train model on test set only"
   ]
  },
  {
   "cell_type": "code",
   "execution_count": 29,
   "metadata": {},
   "outputs": [],
   "source": [
    "features2,dialects2=read_data_set(\"data/test_set_kurdish_dialects_ivectors.csv\")\n",
    "X_train2, X_test2, y_train2, y_test2 = train_test_split(features2,dialects2,test_size=0.2,shuffle=True,random_state=12,stratify=dialects2)\n"
   ]
  },
  {
   "cell_type": "code",
   "execution_count": 30,
   "metadata": {},
   "outputs": [
    {
     "data": {
      "text/plain": [
       "(1239, 400)"
      ]
     },
     "execution_count": 30,
     "metadata": {},
     "output_type": "execute_result"
    }
   ],
   "source": [
    "features2.shape"
   ]
  },
  {
   "cell_type": "code",
   "execution_count": 31,
   "metadata": {},
   "outputs": [
    {
     "name": "stdout",
     "output_type": "stream",
     "text": [
      "score:  0.6290322580645161\n",
      "-----------------------------\n",
      "Report Classifier\n",
      "[[19  4 11  5  6]\n",
      " [ 3 27  5  9  4]\n",
      " [ 1  3 46  2  2]\n",
      " [ 6  4  8 30  2]\n",
      " [ 2  2  9  4 34]]\n",
      "              precision    recall  f1-score   support\n",
      "\n",
      "     hawrami       0.61      0.42      0.50        45\n",
      "     kalhori       0.68      0.56      0.61        48\n",
      "      zazaki       0.71      0.67      0.69        51\n",
      "      sorani       0.60      0.60      0.60        50\n",
      "    kurmanji       0.58      0.85      0.69        54\n",
      "\n",
      "    accuracy                           0.63       248\n",
      "   macro avg       0.64      0.62      0.62       248\n",
      "weighted avg       0.64      0.63      0.62       248\n",
      "\n",
      "Report Classifier\n",
      "-----------------------------\n"
     ]
    }
   ],
   "source": [
    "model_ivectore_2=SVM_classifier(X_train2,y_train2)\n",
    "\n",
    "\n",
    "acc=model_ivectore_2.score(X_test2,y_test2)\n",
    "print(\"score: \",acc)\n",
    "predicts=model_ivectore_2.predict(X_test2)\n",
    "\n",
    "labels=[\"hawrami\", \"kalhori\", \"zazaki\",\"sorani\",\"kurmanji\"]\n",
    "#labels=[1, 2, 3,4,5]\n",
    "# cm=confusion_matrix(y_test,predicts,labels=labels)\n",
    "# print(cm)\n",
    "report_classifer(y_test2,predicts,labels)"
   ]
  },
  {
   "cell_type": "code",
   "execution_count": 32,
   "metadata": {},
   "outputs": [
    {
     "data": {
      "text/plain": [
       "SVC(C=1.0, break_ties=False, cache_size=200, class_weight=None, coef0=0.0,\n",
       "    decision_function_shape='ovr', degree=3, gamma='auto', kernel='rbf',\n",
       "    max_iter=-1, probability=False, random_state=None, shrinking=True,\n",
       "    tol=0.001, verbose=False)"
      ]
     },
     "execution_count": 32,
     "metadata": {},
     "output_type": "execute_result"
    }
   ],
   "source": [
    "model_ivectore_2"
   ]
  },
  {
   "cell_type": "code",
   "execution_count": 34,
   "metadata": {},
   "outputs": [],
   "source": [
    "save_model(model_ivectore_2,\"kdi_svm_ivector_trained_on_test_set.pkl\")"
   ]
  },
  {
   "cell_type": "markdown",
   "metadata": {},
   "source": [
    "--------------------------"
   ]
  },
  {
   "cell_type": "code",
   "execution_count": 56,
   "metadata": {},
   "outputs": [],
   "source": [
    "#tran on combined train and test set"
   ]
  },
  {
   "cell_type": "code",
   "execution_count": 35,
   "metadata": {},
   "outputs": [],
   "source": [
    "import numpy as np"
   ]
  },
  {
   "cell_type": "code",
   "execution_count": 40,
   "metadata": {},
   "outputs": [
    {
     "data": {
      "text/plain": [
       "(21763, 400)"
      ]
     },
     "execution_count": 40,
     "metadata": {},
     "output_type": "execute_result"
    }
   ],
   "source": [
    "features.shape"
   ]
  },
  {
   "cell_type": "code",
   "execution_count": 41,
   "metadata": {},
   "outputs": [
    {
     "data": {
      "text/plain": [
       "(1239, 400)"
      ]
     },
     "execution_count": 41,
     "metadata": {},
     "output_type": "execute_result"
    }
   ],
   "source": [
    "features_ivectore_test_set.shape"
   ]
  },
  {
   "cell_type": "code",
   "execution_count": 44,
   "metadata": {},
   "outputs": [],
   "source": [
    "concated_features=np.concatenate ((features,features_ivectore_test_set),axis=0)"
   ]
  },
  {
   "cell_type": "code",
   "execution_count": 45,
   "metadata": {},
   "outputs": [],
   "source": [
    "concated_dialects=np.concatenate ((dialects,dialects_ivectore_test_set),axis=0)"
   ]
  },
  {
   "cell_type": "code",
   "execution_count": 48,
   "metadata": {},
   "outputs": [
    {
     "data": {
      "text/plain": [
       "(23002, 400)"
      ]
     },
     "execution_count": 48,
     "metadata": {},
     "output_type": "execute_result"
    }
   ],
   "source": [
    "concated_features.shape"
   ]
  },
  {
   "cell_type": "code",
   "execution_count": 49,
   "metadata": {},
   "outputs": [
    {
     "data": {
      "text/plain": [
       "(23002,)"
      ]
     },
     "execution_count": 49,
     "metadata": {},
     "output_type": "execute_result"
    }
   ],
   "source": [
    "concated_dialects.shape"
   ]
  },
  {
   "cell_type": "code",
   "execution_count": 50,
   "metadata": {},
   "outputs": [],
   "source": [
    "X_train3, X_test3, y_train3, y_test3 = train_test_split(concated_features,concated_dialects,test_size=0.2,shuffle=True,random_state=12,stratify=concated_dialects)\n"
   ]
  },
  {
   "cell_type": "code",
   "execution_count": 51,
   "metadata": {},
   "outputs": [
    {
     "name": "stdout",
     "output_type": "stream",
     "text": [
      "score:  0.9363181916974571\n",
      "-----------------------------\n",
      "Report Classifier\n",
      "[[ 332    2   22   10   22]\n",
      " [   0  997    6   16   14]\n",
      " [   1    9  992    9   22]\n",
      " [   1    7    9  824   56]\n",
      " [   2   22   38   25 1163]]\n",
      "              precision    recall  f1-score   support\n",
      "\n",
      "     hawrami       0.99      0.86      0.92       388\n",
      "     kalhori       0.96      0.97      0.96      1033\n",
      "      zazaki       0.91      0.93      0.92      1250\n",
      "      sorani       0.93      0.92      0.93       897\n",
      "    kurmanji       0.93      0.96      0.94      1033\n",
      "\n",
      "    accuracy                           0.94      4601\n",
      "   macro avg       0.94      0.93      0.93      4601\n",
      "weighted avg       0.94      0.94      0.94      4601\n",
      "\n",
      "Report Classifier\n",
      "-----------------------------\n"
     ]
    }
   ],
   "source": [
    "model_ivectore_combined=SVM_classifier(X_train3,y_train3)\n",
    "\n",
    "\n",
    "acc=model_ivectore_combined.score(X_test3,y_test3)\n",
    "print(\"score: \",acc)\n",
    "predicts=model_ivectore_combined.predict(X_test3)\n",
    "\n",
    "labels=[\"hawrami\", \"kalhori\", \"zazaki\",\"sorani\",\"kurmanji\"]\n",
    "#labels=[1, 2, 3,4,5]\n",
    "# cm=confusion_matrix(y_test,predicts,labels=labels)\n",
    "# print(cm)\n",
    "report_classifer(y_test3,predicts,labels)"
   ]
  },
  {
   "cell_type": "code",
   "execution_count": 53,
   "metadata": {},
   "outputs": [
    {
     "data": {
      "text/plain": [
       "SVC(C=1.0, break_ties=False, cache_size=200, class_weight=None, coef0=0.0,\n",
       "    decision_function_shape='ovr', degree=3, gamma='auto', kernel='rbf',\n",
       "    max_iter=-1, probability=False, random_state=None, shrinking=True,\n",
       "    tol=0.001, verbose=False)"
      ]
     },
     "execution_count": 53,
     "metadata": {},
     "output_type": "execute_result"
    }
   ],
   "source": [
    "model_ivectore_combined"
   ]
  },
  {
   "cell_type": "code",
   "execution_count": 55,
   "metadata": {},
   "outputs": [],
   "source": [
    "save_model(model_ivectore_combined,\"kdi_svm_ivector_trained_on_combinded_dataset.pkl\")"
   ]
  },
  {
   "cell_type": "code",
   "execution_count": null,
   "metadata": {},
   "outputs": [],
   "source": []
  }
 ],
 "metadata": {
  "kernelspec": {
   "display_name": "Python 3",
   "language": "python",
   "name": "python3"
  },
  "language_info": {
   "codemirror_mode": {
    "name": "ipython",
    "version": 3
   },
   "file_extension": ".py",
   "mimetype": "text/x-python",
   "name": "python",
   "nbconvert_exporter": "python",
   "pygments_lexer": "ipython3",
   "version": "3.7.6"
  }
 },
 "nbformat": 4,
 "nbformat_minor": 2
}
