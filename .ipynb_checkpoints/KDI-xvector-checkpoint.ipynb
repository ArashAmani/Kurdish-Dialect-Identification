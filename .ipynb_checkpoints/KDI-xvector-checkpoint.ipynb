{
 "cells": [
  {
   "cell_type": "code",
   "execution_count": 19,
   "metadata": {},
   "outputs": [],
   "source": [
    "import pandas as pd\n",
    "from sklearn.model_selection import train_test_split\n",
    "from sklearn.neighbors import KNeighborsClassifier\n",
    "from sklearn.metrics import  confusion_matrix\n",
    "from sklearn.metrics import classification_report\n",
    "from sklearn.model_selection import cross_val_score\n",
    "from sklearn.metrics import accuracy_score\n",
    "from sklearn.model_selection import cross_validate"
   ]
  },
  {
   "cell_type": "markdown",
   "metadata": {},
   "source": [
    "# X-Vectore "
   ]
  },
  {
   "cell_type": "raw",
   "metadata": {},
   "source": [
    "Train & Validation "
   ]
  },
  {
   "cell_type": "code",
   "execution_count": 8,
   "metadata": {},
   "outputs": [],
   "source": [
    "def report_classifer(y_test,predicts,target_names):\n",
    "    print(\"-----------------------------\")\n",
    "    print(\"Report Classifier\")\n",
    "    cm=confusion_matrix(y_test,predicts,labels=target_names)\n",
    "    print(cm)\n",
    "    print(classification_report(y_test, predicts, target_names=target_names))\n",
    "    print(\"Report Classifier\")\n",
    "    print(\"-----------------------------\")"
   ]
  },
  {
   "cell_type": "code",
   "execution_count": 9,
   "metadata": {},
   "outputs": [],
   "source": [
    "def read_data_set(csv_vectore,number_feature=513):\n",
    "    vdf=pd.read_csv(csv_vectore,header=None)\n",
    "    columns=[ \"f{}\".format(i) for i in range(1,number_feature)]\n",
    "    columns.append('class')\n",
    "    vdf.columns=columns\n",
    "    features=vdf.iloc[:,0:-1]\n",
    "    dialects=vdf.iloc[:,-1]\n",
    "    return features,dialects"
   ]
  },
  {
   "cell_type": "code",
   "execution_count": 10,
   "metadata": {},
   "outputs": [],
   "source": [
    "features,dialects=read_data_set('kurdish_dialect_vectors/final_kurdish_dialect_xvectors.csv')\n",
    "\n"
   ]
  },
  {
   "cell_type": "code",
   "execution_count": null,
   "metadata": {},
   "outputs": [],
   "source": []
  },
  {
   "cell_type": "code",
   "execution_count": 11,
   "metadata": {},
   "outputs": [
    {
     "name": "stdout",
     "output_type": "stream",
     "text": [
      "(16384, 512)\n",
      "(16384,)\n"
     ]
    }
   ],
   "source": [
    "\n",
    "print(features.shape)\n",
    "print(dialects.shape)"
   ]
  },
  {
   "cell_type": "code",
   "execution_count": 12,
   "metadata": {},
   "outputs": [],
   "source": [
    "from sklearn.svm import SVC\n",
    "\n",
    "#clf = svm.SVC(kernel='linear', C=1, random_state=42)\n",
    "\n",
    "# def SVM_classifier(features,label):\n",
    "#     model=SVC(gamma='auto',random_state=42)\n",
    "#     model.fit(features,label)\n",
    "#     return model"
   ]
  },
  {
   "cell_type": "raw",
   "metadata": {},
   "source": [
    "train set & validation set is on the same data set\n"
   ]
  },
  {
   "cell_type": "code",
   "execution_count": 34,
   "metadata": {},
   "outputs": [],
   "source": [
    "metrics=['precision_macro', 'recall_macro','f1_macro','accuracy']\n"
   ]
  },
  {
   "cell_type": "code",
   "execution_count": 44,
   "metadata": {},
   "outputs": [
    {
     "name": "stderr",
     "output_type": "stream",
     "text": [
      "[Parallel(n_jobs=1)]: Using backend SequentialBackend with 1 concurrent workers.\n",
      "[Parallel(n_jobs=1)]: Done   5 out of   5 | elapsed:  2.9min finished\n"
     ]
    }
   ],
   "source": [
    "clf = SVC(gamma='auto',random_state=42)\n",
    "scores_csv = cross_validate(clf, features, dialects, cv=5,verbose=1,scoring=metrics)"
   ]
  },
  {
   "cell_type": "code",
   "execution_count": 45,
   "metadata": {},
   "outputs": [
    {
     "data": {
      "text/plain": [
       "{'fit_time': array([21.72644949, 27.56094241, 25.33736396, 27.90252423, 26.96728992]),\n",
       " 'score_time': array([8.25180578, 9.53459048, 9.04793429, 9.07903266, 9.20807791]),\n",
       " 'test_precision_macro': array([0.75629476, 0.92402513, 0.84106935, 0.91252354, 0.92649355]),\n",
       " 'test_recall_macro': array([0.77174641, 0.88604648, 0.79784286, 0.90938627, 0.92513816]),\n",
       " 'test_f1_macro': array([0.75039506, 0.89693276, 0.80596344, 0.90883399, 0.92552472]),\n",
       " 'test_accuracy': array([0.7549588 , 0.91211474, 0.83307904, 0.90357034, 0.92246642])}"
      ]
     },
     "execution_count": 45,
     "metadata": {},
     "output_type": "execute_result"
    }
   ],
   "source": [
    "scores_csv"
   ]
  },
  {
   "cell_type": "code",
   "execution_count": 46,
   "metadata": {},
   "outputs": [
    {
     "name": "stdout",
     "output_type": "stream",
     "text": [
      "Precision on CSV:  0.87\n",
      "Recall on CSV :  0.86\n",
      "F1_score  on CSV:  0.86\n",
      "Acuracy  on CSV:  0.87\n"
     ]
    }
   ],
   "source": [
    "print(\"Precision on CSV: \", round(scores_csv[\"test_precision_macro\"].mean(),2))\n",
    "print(\"Recall on CSV : \", round(scores_csv[\"test_recall_macro\"].mean(),2))\n",
    "print(\"F1_score  on CSV: \", round(scores_csv[\"test_f1_macro\"].mean(),2))\n",
    "print(\"Acuracy  on CSV: \", round(scores_csv[\"test_accuracy\"].mean(),2))"
   ]
  },
  {
   "cell_type": "code",
   "execution_count": 48,
   "metadata": {},
   "outputs": [
    {
     "name": "stdout",
     "output_type": "stream",
     "text": [
      "0.87 accuracy with a standard deviation of 0.07\n"
     ]
    }
   ],
   "source": [
    "print(\"%0.2f accuracy with a standard deviation of %0.2f\" % (scores_csv[\"test_precision_macro\"].mean(), scores_csv[\"test_precision_macro\"].std()))\n"
   ]
  },
  {
   "cell_type": "code",
   "execution_count": null,
   "metadata": {},
   "outputs": [],
   "source": []
  },
  {
   "cell_type": "markdown",
   "metadata": {},
   "source": [
    "# Evaluation On Decision Tree"
   ]
  },
  {
   "cell_type": "code",
   "execution_count": 36,
   "metadata": {},
   "outputs": [],
   "source": [
    "from sklearn.tree import DecisionTreeClassifier"
   ]
  },
  {
   "cell_type": "code",
   "execution_count": 49,
   "metadata": {},
   "outputs": [
    {
     "name": "stderr",
     "output_type": "stream",
     "text": [
      "[Parallel(n_jobs=1)]: Using backend SequentialBackend with 1 concurrent workers.\n",
      "[Parallel(n_jobs=1)]: Done   5 out of   5 | elapsed:  1.6min finished\n"
     ]
    }
   ],
   "source": [
    "dt = DecisionTreeClassifier(criterion='entropy',random_state=42)\n",
    "scores_dt = cross_validate(dt, features, dialects, cv=5,verbose=1,scoring=metrics)\n"
   ]
  },
  {
   "cell_type": "code",
   "execution_count": 52,
   "metadata": {},
   "outputs": [
    {
     "data": {
      "text/plain": [
       "{'fit_time': array([19.04834366, 18.94447446, 19.00083542, 19.93650889, 18.37455583]),\n",
       " 'score_time': array([0.04562736, 0.04521155, 0.04608893, 0.04596949, 0.04543066]),\n",
       " 'test_precision_macro': array([0.55347717, 0.63650537, 0.63393178, 0.70664886, 0.70429903]),\n",
       " 'test_recall_macro': array([0.56215631, 0.61529657, 0.6118164 , 0.69584829, 0.70414667]),\n",
       " 'test_f1_macro': array([0.55395708, 0.61896913, 0.61715293, 0.69558588, 0.70361734]),\n",
       " 'test_accuracy': array([0.5627098 , 0.64418676, 0.6396094 , 0.69209643, 0.7014652 ])}"
      ]
     },
     "execution_count": 52,
     "metadata": {},
     "output_type": "execute_result"
    }
   ],
   "source": [
    "scores_dt"
   ]
  },
  {
   "cell_type": "code",
   "execution_count": 53,
   "metadata": {},
   "outputs": [
    {
     "name": "stdout",
     "output_type": "stream",
     "text": [
      "Precision on DT:  0.65\n",
      "Recall on DT:  0.64\n",
      "F1_score on DT:  0.64\n",
      "Acuracy on DT:  0.65\n"
     ]
    }
   ],
   "source": [
    "print(\"Precision on DT: \", round(scores_dt[\"test_precision_macro\"].mean(),2))\n",
    "print(\"Recall on DT: \", round(scores_dt[\"test_recall_macro\"].mean(),2))\n",
    "print(\"F1_score on DT: \", round(scores_dt[\"test_f1_macro\"].mean(),2))\n",
    "print(\"Acuracy on DT: \", round(scores_dt[\"test_accuracy\"].mean(),2))"
   ]
  },
  {
   "cell_type": "code",
   "execution_count": 41,
   "metadata": {},
   "outputs": [
    {
     "data": {
      "text/plain": [
       "0.65"
      ]
     },
     "execution_count": 41,
     "metadata": {},
     "output_type": "execute_result"
    }
   ],
   "source": []
  },
  {
   "cell_type": "markdown",
   "metadata": {},
   "source": [
    "------------------------------"
   ]
  },
  {
   "cell_type": "code",
   "execution_count": 51,
   "metadata": {},
   "outputs": [],
   "source": [
    "k_fold_split=5\n",
    "labels=[\"hawrami\", \"kalhori\", \"zazaki\",\"sorani\",\"kurmanji\"]\n",
    "\n",
    "from sklearn.model_selection import StratifiedKFold\n",
    "skf = StratifiedKFold(n_splits=k_fold_split, random_state=42, shuffle=True)\n",
    "\n"
   ]
  },
  {
   "cell_type": "code",
   "execution_count": 45,
   "metadata": {},
   "outputs": [
    {
     "name": "stdout",
     "output_type": "stream",
     "text": [
      "Fold:  0\n",
      "Accuracy:  0.9893134715025906\n",
      "-----------------------------\n",
      "Report Classifier\n",
      "[[335   0   0   0   0]\n",
      " [  1 692   0   0   0]\n",
      " [  0   0 716   0   0]\n",
      " [  0   0   1 664   7]\n",
      " [  0   2   6  16 648]]\n",
      "              precision    recall  f1-score   support\n",
      "\n",
      "     hawrami       1.00      1.00      1.00       335\n",
      "     kalhori       1.00      1.00      1.00       693\n",
      "      zazaki       0.99      0.96      0.98       672\n",
      "      sorani       0.98      0.99      0.98       672\n",
      "    kurmanji       0.99      1.00      1.00       716\n",
      "\n",
      "    accuracy                           0.99      3088\n",
      "   macro avg       0.99      0.99      0.99      3088\n",
      "weighted avg       0.99      0.99      0.99      3088\n",
      "\n",
      "Report Classifier\n",
      "-----------------------------\n",
      "Fold:  1\n",
      "Accuracy:  0.9896373056994818\n",
      "-----------------------------\n",
      "Report Classifier\n",
      "[[330   0   0   1   4]\n",
      " [  0 693   0   0   0]\n",
      " [  0   0 716   0   0]\n",
      " [  0   0   0 660  12]\n",
      " [  0   1   3  11 657]]\n",
      "              precision    recall  f1-score   support\n",
      "\n",
      "     hawrami       1.00      0.99      0.99       335\n",
      "     kalhori       1.00      1.00      1.00       693\n",
      "      zazaki       0.98      0.98      0.98       672\n",
      "      sorani       0.98      0.98      0.98       672\n",
      "    kurmanji       1.00      1.00      1.00       716\n",
      "\n",
      "    accuracy                           0.99      3088\n",
      "   macro avg       0.99      0.99      0.99      3088\n",
      "weighted avg       0.99      0.99      0.99      3088\n",
      "\n",
      "Report Classifier\n",
      "-----------------------------\n",
      "Fold:  2\n",
      "Accuracy:  0.9857512953367875\n",
      "-----------------------------\n",
      "Report Classifier\n",
      "[[334   1   0   0   0]\n",
      " [  2 690   0   0   0]\n",
      " [  1   0 715   0   0]\n",
      " [  1   1   0 651  20]\n",
      " [  1   2   3  12 654]]\n",
      "              precision    recall  f1-score   support\n",
      "\n",
      "     hawrami       0.99      1.00      0.99       335\n",
      "     kalhori       0.99      1.00      1.00       692\n",
      "      zazaki       0.97      0.97      0.97       672\n",
      "      sorani       0.98      0.97      0.97       673\n",
      "    kurmanji       1.00      1.00      1.00       716\n",
      "\n",
      "    accuracy                           0.99      3088\n",
      "   macro avg       0.99      0.99      0.99      3088\n",
      "weighted avg       0.99      0.99      0.99      3088\n",
      "\n",
      "Report Classifier\n",
      "-----------------------------\n",
      "Fold:  3\n",
      "Accuracy:  0.9906057661159702\n",
      "-----------------------------\n",
      "Report Classifier\n",
      "[[334   1   0   0   0]\n",
      " [  0 692   0   0   0]\n",
      " [  0   0 715   0   0]\n",
      " [  0   0   0 656  17]\n",
      " [  0   0   3   8 661]]\n",
      "              precision    recall  f1-score   support\n",
      "\n",
      "     hawrami       1.00      1.00      1.00       335\n",
      "     kalhori       1.00      1.00      1.00       692\n",
      "      zazaki       0.97      0.98      0.98       672\n",
      "      sorani       0.99      0.97      0.98       673\n",
      "    kurmanji       1.00      1.00      1.00       715\n",
      "\n",
      "    accuracy                           0.99      3087\n",
      "   macro avg       0.99      0.99      0.99      3087\n",
      "weighted avg       0.99      0.99      0.99      3087\n",
      "\n",
      "Report Classifier\n",
      "-----------------------------\n",
      "Fold:  4\n",
      "Accuracy:  0.9922254616132167\n",
      "-----------------------------\n",
      "Report Classifier\n",
      "[[334   0   0   0   0]\n",
      " [  0 693   0   0   0]\n",
      " [  0   0 715   0   0]\n",
      " [  0   0   0 659  14]\n",
      " [  1   0   4   5 662]]\n",
      "              precision    recall  f1-score   support\n",
      "\n",
      "     hawrami       1.00      1.00      1.00       334\n",
      "     kalhori       1.00      1.00      1.00       693\n",
      "      zazaki       0.98      0.99      0.98       672\n",
      "      sorani       0.99      0.98      0.99       673\n",
      "    kurmanji       0.99      1.00      1.00       715\n",
      "\n",
      "    accuracy                           0.99      3087\n",
      "   macro avg       0.99      0.99      0.99      3087\n",
      "weighted avg       0.99      0.99      0.99      3087\n",
      "\n",
      "Report Classifier\n",
      "-----------------------------\n"
     ]
    }
   ],
   "source": [
    "\n",
    "\n",
    "model=SVC(gamma='auto',random_state=42)\n",
    "\n",
    "fold_no = 0\n",
    "results={}\n",
    "scores=[0]*k_fold_split \n",
    "for train_index, test_index in skf.split(features, dialects):\n",
    "    #print(\"TRAIN:\", train_index, \"TEST:\", test_index)\n",
    "    X_train, X_test = features.iloc[train_index], features.iloc[test_index]\n",
    "    y_train, y_test = dialects.iloc[train_index], dialects.iloc[test_index]\n",
    "    \n",
    "    print(\"Fold: \",str(fold_no))\n",
    "    \n",
    "    model.fit(X_train,y_train)\n",
    "    predicts = model.predict(X_test)\n",
    "    \n",
    "    scores[fold_no]= accuracy_score(y_test,predicts) \n",
    "    print('Accuracy: ',scores[fold_no])\n",
    "    report_classifer(y_test,predicts,labels)\n",
    "    \n",
    "    fold_no = fold_no + 1"
   ]
  },
  {
   "cell_type": "code",
   "execution_count": 46,
   "metadata": {},
   "outputs": [
    {
     "name": "stdout",
     "output_type": "stream",
     "text": [
      "0.99 accuracy with a standard deviation of 0.00\n"
     ]
    }
   ],
   "source": [
    "import numpy as np\n",
    "print(\"%0.2f accuracy with a standard deviation of %0.2f\" % (np.array(scores).mean(), np.array(scores).std()))"
   ]
  },
  {
   "cell_type": "code",
   "execution_count": null,
   "metadata": {},
   "outputs": [],
   "source": []
  },
  {
   "cell_type": "code",
   "execution_count": 48,
   "metadata": {},
   "outputs": [
    {
     "data": {
      "text/plain": [
       "SVC(C=1.0, break_ties=False, cache_size=200, class_weight=None, coef0=0.0,\n",
       "    decision_function_shape='ovr', degree=3, gamma='auto', kernel='rbf',\n",
       "    max_iter=-1, probability=False, random_state=42, shrinking=True, tol=0.001,\n",
       "    verbose=False)"
      ]
     },
     "execution_count": 48,
     "metadata": {},
     "output_type": "execute_result"
    }
   ],
   "source": [
    "model"
   ]
  },
  {
   "cell_type": "markdown",
   "metadata": {},
   "source": [
    "# Decicio Tree Classifier"
   ]
  },
  {
   "cell_type": "code",
   "execution_count": 49,
   "metadata": {},
   "outputs": [],
   "source": [
    "from sklearn.tree import DecisionTreeClassifier"
   ]
  },
  {
   "cell_type": "code",
   "execution_count": 53,
   "metadata": {},
   "outputs": [
    {
     "name": "stdout",
     "output_type": "stream",
     "text": [
      "0.66 accuracy with a standard deviation of 0.03\n"
     ]
    }
   ],
   "source": [
    "\n",
    "clf = DecisionTreeClassifier(criterion='entropy',random_state=42)\n",
    "scores = cross_val_score(clf, features, dialects, cv=5)\n",
    "\n",
    "print(\"%0.2f accuracy with a standard deviation of %0.2f\" % (np.array(scores).mean(), np.array(scores).std()))"
   ]
  },
  {
   "cell_type": "code",
   "execution_count": null,
   "metadata": {},
   "outputs": [],
   "source": []
  },
  {
   "cell_type": "code",
   "execution_count": 54,
   "metadata": {},
   "outputs": [
    {
     "name": "stdout",
     "output_type": "stream",
     "text": [
      "Fold:  0\n",
      "Accuracy:  0.8539507772020726\n",
      "-----------------------------\n",
      "Report Classifier\n",
      "[[288  14  12  11  10]\n",
      " [  6 630  26  12  19]\n",
      " [ 11  18 646  16  25]\n",
      " [ 11  20  16 548  77]\n",
      " [ 10  25  35  77 525]]\n",
      "              precision    recall  f1-score   support\n",
      "\n",
      "     hawrami       0.88      0.86      0.87       335\n",
      "     kalhori       0.89      0.91      0.90       693\n",
      "      zazaki       0.80      0.78      0.79       672\n",
      "      sorani       0.83      0.82      0.82       672\n",
      "    kurmanji       0.88      0.90      0.89       716\n",
      "\n",
      "    accuracy                           0.85      3088\n",
      "   macro avg       0.86      0.85      0.85      3088\n",
      "weighted avg       0.85      0.85      0.85      3088\n",
      "\n",
      "Report Classifier\n",
      "-----------------------------\n",
      "Fold:  1\n",
      "Accuracy:  0.8448834196891192\n",
      "-----------------------------\n",
      "Report Classifier\n",
      "[[291  13   7   5  19]\n",
      " [ 11 616  24  26  16]\n",
      " [  7  30 637  17  25]\n",
      " [  7  21  13 543  88]\n",
      " [ 11  25  32  82 522]]\n",
      "              precision    recall  f1-score   support\n",
      "\n",
      "     hawrami       0.89      0.87      0.88       335\n",
      "     kalhori       0.87      0.89      0.88       693\n",
      "      zazaki       0.78      0.78      0.78       672\n",
      "      sorani       0.81      0.81      0.81       672\n",
      "    kurmanji       0.89      0.89      0.89       716\n",
      "\n",
      "    accuracy                           0.84      3088\n",
      "   macro avg       0.85      0.85      0.85      3088\n",
      "weighted avg       0.84      0.84      0.84      3088\n",
      "\n",
      "Report Classifier\n",
      "-----------------------------\n",
      "Fold:  2\n",
      "Accuracy:  0.8348445595854922\n",
      "-----------------------------\n",
      "Report Classifier\n",
      "[[278  19  12  10  16]\n",
      " [ 12 615  18  22  25]\n",
      " [ 10  23 638  14  31]\n",
      " [ 15  15  15 541  87]\n",
      " [ 19  28  24  95 506]]\n",
      "              precision    recall  f1-score   support\n",
      "\n",
      "     hawrami       0.83      0.83      0.83       335\n",
      "     kalhori       0.88      0.89      0.88       692\n",
      "      zazaki       0.76      0.75      0.76       672\n",
      "      sorani       0.79      0.80      0.80       673\n",
      "    kurmanji       0.90      0.89      0.90       716\n",
      "\n",
      "    accuracy                           0.83      3088\n",
      "   macro avg       0.83      0.83      0.83      3088\n",
      "weighted avg       0.83      0.83      0.83      3088\n",
      "\n",
      "Report Classifier\n",
      "-----------------------------\n",
      "Fold:  3\n",
      "Accuracy:  0.844185293164885\n",
      "-----------------------------\n",
      "Report Classifier\n",
      "[[291  15  10   8  11]\n",
      " [ 11 623  21  14  23]\n",
      " [  8  24 625  23  35]\n",
      " [ 12  21  22 554  64]\n",
      " [ 24  20  23  92 513]]\n",
      "              precision    recall  f1-score   support\n",
      "\n",
      "     hawrami       0.84      0.87      0.85       335\n",
      "     kalhori       0.89      0.90      0.89       692\n",
      "      zazaki       0.79      0.76      0.78       672\n",
      "      sorani       0.80      0.82      0.81       673\n",
      "    kurmanji       0.89      0.87      0.88       715\n",
      "\n",
      "    accuracy                           0.84      3087\n",
      "   macro avg       0.84      0.85      0.84      3087\n",
      "weighted avg       0.84      0.84      0.84      3087\n",
      "\n",
      "Report Classifier\n",
      "-----------------------------\n",
      "Fold:  4\n",
      "Accuracy:  0.8461289277615808\n",
      "-----------------------------\n",
      "Report Classifier\n",
      "[[286  15   7  12  14]\n",
      " [  7 625  21  19  21]\n",
      " [ 11  23 640  17  24]\n",
      " [  2  25  13 547  86]\n",
      " [ 17  23  29  89 514]]\n",
      "              precision    recall  f1-score   support\n",
      "\n",
      "     hawrami       0.89      0.86      0.87       334\n",
      "     kalhori       0.88      0.90      0.89       693\n",
      "      zazaki       0.78      0.76      0.77       672\n",
      "      sorani       0.80      0.81      0.81       673\n",
      "    kurmanji       0.90      0.90      0.90       715\n",
      "\n",
      "    accuracy                           0.85      3087\n",
      "   macro avg       0.85      0.85      0.85      3087\n",
      "weighted avg       0.85      0.85      0.85      3087\n",
      "\n",
      "Report Classifier\n",
      "-----------------------------\n"
     ]
    }
   ],
   "source": [
    "model = DecisionTreeClassifier(criterion='entropy',random_state=42)\n",
    "\n",
    "fold_no = 0\n",
    "results={}\n",
    "scores=[0]*k_fold_split \n",
    "for train_index, test_index in skf.split(features, dialects):\n",
    "    #print(\"TRAIN:\", train_index, \"TEST:\", test_index)\n",
    "    X_train, X_test = features.iloc[train_index], features.iloc[test_index]\n",
    "    y_train, y_test = dialects.iloc[train_index], dialects.iloc[test_index]\n",
    "    \n",
    "    print(\"Fold: \",str(fold_no))\n",
    "    \n",
    "    model.fit(X_train,y_train)\n",
    "    predicts = model.predict(X_test)\n",
    "    \n",
    "    scores[fold_no]= accuracy_score(y_test,predicts) \n",
    "    print('Accuracy: ',scores[fold_no])\n",
    "    report_classifer(y_test,predicts,labels)\n",
    "    \n",
    "    fold_no = fold_no + 1"
   ]
  },
  {
   "cell_type": "code",
   "execution_count": 55,
   "metadata": {},
   "outputs": [
    {
     "name": "stdout",
     "output_type": "stream",
     "text": [
      "0.84 accuracy with a standard deviation of 0.01\n"
     ]
    }
   ],
   "source": [
    "print(\"%0.2f accuracy with a standard deviation of %0.2f\" % (np.array(scores).mean(), np.array(scores).std()))"
   ]
  },
  {
   "cell_type": "code",
   "execution_count": null,
   "metadata": {},
   "outputs": [],
   "source": []
  },
  {
   "cell_type": "code",
   "execution_count": null,
   "metadata": {},
   "outputs": [],
   "source": []
  },
  {
   "cell_type": "markdown",
   "metadata": {},
   "source": [
    "-------------------"
   ]
  },
  {
   "cell_type": "markdown",
   "metadata": {},
   "source": [
    "# The following result is not to the final data"
   ]
  },
  {
   "cell_type": "code",
   "execution_count": null,
   "metadata": {},
   "outputs": [],
   "source": [
    "model_xvectore_1=SVM_classifier(X_train,y_train)\n",
    "\n",
    "\n",
    "acc=model_xvectore_1.score(X_test,y_test)\n",
    "print(\"score: \",acc)\n",
    "predicts=model_xvectore_1.predict(X_test)\n",
    "\n",
    "labels=[\"hawrami\", \"kalhori\", \"zazaki\",\"sorani\",\"kurmanji\"]\n",
    "labels=[1, 2, 3,4,5]\n",
    "cm=confusion_matrix(y_test,predicts,labels=labels)\n",
    "print(cm)\n",
    "report_classifer(y_test,predicts,labels)"
   ]
  },
  {
   "cell_type": "code",
   "execution_count": null,
   "metadata": {},
   "outputs": [],
   "source": [
    "\n"
   ]
  },
  {
   "cell_type": "markdown",
   "metadata": {},
   "source": []
  },
  {
   "cell_type": "code",
   "execution_count": 31,
   "metadata": {},
   "outputs": [
    {
     "data": {
      "text/plain": [
       "SVC(C=1.0, break_ties=False, cache_size=200, class_weight=None, coef0=0.0,\n",
       "    decision_function_shape='ovr', degree=3, gamma='auto', kernel='rbf',\n",
       "    max_iter=-1, probability=False, random_state=None, shrinking=True,\n",
       "    tol=0.001, verbose=False)"
      ]
     },
     "execution_count": 31,
     "metadata": {},
     "output_type": "execute_result"
    }
   ],
   "source": [
    "model_xvectore_1"
   ]
  },
  {
   "cell_type": "markdown",
   "metadata": {},
   "source": [
    "--------------------------"
   ]
  },
  {
   "cell_type": "code",
   "execution_count": 17,
   "metadata": {},
   "outputs": [],
   "source": [
    "features_xvectore_test_set,dialects_xvectore_test_set=read_data_set(\"data/test_set_kurdish_dialect_xvector.csv\")"
   ]
  },
  {
   "cell_type": "code",
   "execution_count": 18,
   "metadata": {},
   "outputs": [
    {
     "data": {
      "text/plain": [
       "(1239, 512)"
      ]
     },
     "execution_count": 18,
     "metadata": {},
     "output_type": "execute_result"
    }
   ],
   "source": [
    "features.shape"
   ]
  },
  {
   "cell_type": "code",
   "execution_count": 19,
   "metadata": {},
   "outputs": [
    {
     "name": "stdout",
     "output_type": "stream",
     "text": [
      "-----------------------------\n",
      "Report Classifier\n",
      "[[  6  10  27   6 176]\n",
      " [  6  95   8   8 122]\n",
      " [  4   5 195   2  64]\n",
      " [  9  37  15  51 138]\n",
      " [  2  55  56  17 125]]\n",
      "              precision    recall  f1-score   support\n",
      "\n",
      "     hawrami       0.22      0.03      0.05       225\n",
      "     kalhori       0.47      0.40      0.43       239\n",
      "      zazaki       0.20      0.49      0.28       255\n",
      "      sorani       0.61      0.20      0.31       250\n",
      "    kurmanji       0.65      0.72      0.68       270\n",
      "\n",
      "    accuracy                           0.38      1239\n",
      "   macro avg       0.43      0.37      0.35      1239\n",
      "weighted avg       0.44      0.38      0.36      1239\n",
      "\n",
      "Report Classifier\n",
      "-----------------------------\n"
     ]
    }
   ],
   "source": [
    "\n",
    "predicts=model_xvectore_1.predict(features_xvectore_test_set)\n",
    "\n",
    "labels=[\"hawrami\", \"kalhori\", \"zazaki\",\"sorani\",\"kurmanji\"]\n",
    "#labels=[1, 2, 3,4,5]\n",
    "# cm=confusion_matrix(y_test,predicts,labels=labels)\n",
    "# print(cm)\n",
    "report_classifer(dialects_xvectore_test_set,predicts,labels)"
   ]
  },
  {
   "cell_type": "code",
   "execution_count": 51,
   "metadata": {},
   "outputs": [],
   "source": [
    "import pickle\n",
    "\n",
    "def save_model(model,model_name):\n",
    "    with open(model_name,\"wb\") as f:\n",
    "        f.write(pickle.dumps( model ))"
   ]
  },
  {
   "cell_type": "code",
   "execution_count": 63,
   "metadata": {},
   "outputs": [],
   "source": [
    "save_model(model_xvectore_1,\"kdi_svm_xvector_trained_on_only_train_set.pkl\")"
   ]
  },
  {
   "cell_type": "code",
   "execution_count": 22,
   "metadata": {},
   "outputs": [],
   "source": [
    "#train model on test set only"
   ]
  },
  {
   "cell_type": "code",
   "execution_count": 27,
   "metadata": {},
   "outputs": [],
   "source": [
    "features2,dialects2=read_data_set(\"data/test_set_kurdish_dialect_xvector.csv\")\n",
    "X_train2, X_test2, y_train2, y_test2 = train_test_split(features2,dialects2,test_size=0.2,shuffle=True,random_state=12,stratify=dialects2)\n"
   ]
  },
  {
   "cell_type": "code",
   "execution_count": 28,
   "metadata": {},
   "outputs": [
    {
     "data": {
      "text/plain": [
       "(1239, 512)"
      ]
     },
     "execution_count": 28,
     "metadata": {},
     "output_type": "execute_result"
    }
   ],
   "source": [
    "features1.shape"
   ]
  },
  {
   "cell_type": "code",
   "execution_count": 29,
   "metadata": {},
   "outputs": [
    {
     "name": "stdout",
     "output_type": "stream",
     "text": [
      "score:  0.9637096774193549\n",
      "-----------------------------\n",
      "Report Classifier\n",
      "[[45  0  0  0  0]\n",
      " [ 0 44  1  2  1]\n",
      " [ 0  0 54  0  0]\n",
      " [ 1  0  0 49  0]\n",
      " [ 0  0  0  4 47]]\n",
      "              precision    recall  f1-score   support\n",
      "\n",
      "     hawrami       0.98      1.00      0.99        45\n",
      "     kalhori       1.00      0.92      0.96        48\n",
      "      zazaki       0.98      0.92      0.95        51\n",
      "      sorani       0.89      0.98      0.93        50\n",
      "    kurmanji       0.98      1.00      0.99        54\n",
      "\n",
      "    accuracy                           0.96       248\n",
      "   macro avg       0.97      0.96      0.96       248\n",
      "weighted avg       0.97      0.96      0.96       248\n",
      "\n",
      "Report Classifier\n",
      "-----------------------------\n"
     ]
    }
   ],
   "source": [
    "model_xvectore_2=SVM_classifier(X_train2,y_train2)\n",
    "\n",
    "\n",
    "acc=model_xvectore_2.score(X_test2,y_test2)\n",
    "print(\"score: \",acc)\n",
    "predicts=model_xvectore_2.predict(X_test2)\n",
    "\n",
    "labels=[\"hawrami\", \"kalhori\", \"zazaki\",\"sorani\",\"kurmanji\"]\n",
    "#labels=[1, 2, 3,4,5]\n",
    "# cm=confusion_matrix(y_test,predicts,labels=labels)\n",
    "# print(cm)\n",
    "report_classifer(y_test2,predicts,labels)"
   ]
  },
  {
   "cell_type": "code",
   "execution_count": 30,
   "metadata": {},
   "outputs": [
    {
     "data": {
      "text/plain": [
       "SVC(C=1.0, break_ties=False, cache_size=200, class_weight=None, coef0=0.0,\n",
       "    decision_function_shape='ovr', degree=3, gamma='auto', kernel='rbf',\n",
       "    max_iter=-1, probability=False, random_state=None, shrinking=True,\n",
       "    tol=0.001, verbose=False)"
      ]
     },
     "execution_count": 30,
     "metadata": {},
     "output_type": "execute_result"
    }
   ],
   "source": [
    "model_xvectore_2"
   ]
  },
  {
   "cell_type": "code",
   "execution_count": 61,
   "metadata": {},
   "outputs": [],
   "source": [
    "save_model(model_xvectore_2,\"kdi_svm_xvector_trained_on_test_set.pkl\")"
   ]
  },
  {
   "cell_type": "markdown",
   "metadata": {},
   "source": [
    "--------------------------"
   ]
  },
  {
   "cell_type": "code",
   "execution_count": 56,
   "metadata": {},
   "outputs": [],
   "source": [
    "#tran on combined train and test set"
   ]
  },
  {
   "cell_type": "code",
   "execution_count": 33,
   "metadata": {},
   "outputs": [],
   "source": [
    "import numpy as np"
   ]
  },
  {
   "cell_type": "code",
   "execution_count": 39,
   "metadata": {},
   "outputs": [
    {
     "data": {
      "text/plain": [
       "(21125, 512)"
      ]
     },
     "execution_count": 39,
     "metadata": {},
     "output_type": "execute_result"
    }
   ],
   "source": [
    "features.shape"
   ]
  },
  {
   "cell_type": "code",
   "execution_count": 42,
   "metadata": {},
   "outputs": [
    {
     "data": {
      "text/plain": [
       "(1239, 512)"
      ]
     },
     "execution_count": 42,
     "metadata": {},
     "output_type": "execute_result"
    }
   ],
   "source": [
    "features_xvectore_test_set.shape"
   ]
  },
  {
   "cell_type": "code",
   "execution_count": 40,
   "metadata": {},
   "outputs": [],
   "source": [
    "concated_features=np.concatenate ((features,features_xvectore_test_set),axis=0)"
   ]
  },
  {
   "cell_type": "code",
   "execution_count": 43,
   "metadata": {},
   "outputs": [],
   "source": [
    "concated_dialects=np.concatenate ((dialects,dialects_xvectore_test_set),axis=0)"
   ]
  },
  {
   "cell_type": "code",
   "execution_count": 44,
   "metadata": {},
   "outputs": [
    {
     "data": {
      "text/plain": [
       "(22364, 512)"
      ]
     },
     "execution_count": 44,
     "metadata": {},
     "output_type": "execute_result"
    }
   ],
   "source": [
    "concated_features.shape"
   ]
  },
  {
   "cell_type": "code",
   "execution_count": 45,
   "metadata": {},
   "outputs": [
    {
     "data": {
      "text/plain": [
       "(22364,)"
      ]
     },
     "execution_count": 45,
     "metadata": {},
     "output_type": "execute_result"
    }
   ],
   "source": [
    "concated_dialects.shape"
   ]
  },
  {
   "cell_type": "code",
   "execution_count": 47,
   "metadata": {},
   "outputs": [],
   "source": [
    "X_train3, X_test3, y_train3, y_test3 = train_test_split(concated_features,concated_dialects,test_size=0.2,shuffle=True,random_state=12,stratify=concated_dialects)\n"
   ]
  },
  {
   "cell_type": "code",
   "execution_count": 57,
   "metadata": {},
   "outputs": [
    {
     "name": "stdout",
     "output_type": "stream",
     "text": [
      "score:  0.9827856025039123\n",
      "-----------------------------\n",
      "Report Classifier\n",
      "[[ 381    3    1    0    2]\n",
      " [   0  989    1    3    2]\n",
      " [   0    0  998    0    5]\n",
      " [   4    3    0  851   35]\n",
      " [   1    1    8    8 1177]]\n",
      "              precision    recall  f1-score   support\n",
      "\n",
      "     hawrami       0.99      0.98      0.99       387\n",
      "     kalhori       0.99      0.99      0.99       995\n",
      "      zazaki       0.96      0.98      0.97      1195\n",
      "      sorani       0.99      0.95      0.97       893\n",
      "    kurmanji       0.99      1.00      0.99      1003\n",
      "\n",
      "    accuracy                           0.98      4473\n",
      "   macro avg       0.98      0.98      0.98      4473\n",
      "weighted avg       0.98      0.98      0.98      4473\n",
      "\n",
      "Report Classifier\n",
      "-----------------------------\n"
     ]
    }
   ],
   "source": [
    "model_xvectore_combined=SVM_classifier(X_train3,y_train3)\n",
    "\n",
    "\n",
    "acc=model_xvectore_combined.score(X_test3,y_test3)\n",
    "print(\"score: \",acc)\n",
    "predicts=model_xvectore_combined.predict(X_test3)\n",
    "\n",
    "labels=[\"hawrami\", \"kalhori\", \"zazaki\",\"sorani\",\"kurmanji\"]\n",
    "#labels=[1, 2, 3,4,5]\n",
    "# cm=confusion_matrix(y_test,predicts,labels=labels)\n",
    "# print(cm)\n",
    "report_classifer(y_test3,predicts,labels)"
   ]
  },
  {
   "cell_type": "code",
   "execution_count": 58,
   "metadata": {},
   "outputs": [
    {
     "data": {
      "text/plain": [
       "SVC(C=1.0, break_ties=False, cache_size=200, class_weight=None, coef0=0.0,\n",
       "    decision_function_shape='ovr', degree=3, gamma='auto', kernel='rbf',\n",
       "    max_iter=-1, probability=False, random_state=None, shrinking=True,\n",
       "    tol=0.001, verbose=False)"
      ]
     },
     "execution_count": 58,
     "metadata": {},
     "output_type": "execute_result"
    }
   ],
   "source": [
    "model_xvectore_combined"
   ]
  },
  {
   "cell_type": "code",
   "execution_count": 64,
   "metadata": {},
   "outputs": [],
   "source": [
    "save_model(model_xvectore_combined,\"kdi_svm_xvector_trained_on_combinded_dataset.pkl\")"
   ]
  },
  {
   "cell_type": "code",
   "execution_count": null,
   "metadata": {},
   "outputs": [],
   "source": []
  }
 ],
 "metadata": {
  "kernelspec": {
   "display_name": "Python 3",
   "language": "python",
   "name": "python3"
  },
  "language_info": {
   "codemirror_mode": {
    "name": "ipython",
    "version": 3
   },
   "file_extension": ".py",
   "mimetype": "text/x-python",
   "name": "python",
   "nbconvert_exporter": "python",
   "pygments_lexer": "ipython3",
   "version": "3.7.6"
  }
 },
 "nbformat": 4,
 "nbformat_minor": 2
}
